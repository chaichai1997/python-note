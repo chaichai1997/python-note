{
 "cells": [
  {
   "cell_type": "code",
   "execution_count": 2,
   "metadata": {},
   "outputs": [
    {
     "name": "stdout",
     "output_type": "stream",
     "text": [
      "请输入最小值1\n",
      "请输入最大值10\n",
      "2\n",
      "3\n",
      "5\n",
      "7\n"
     ]
    }
   ],
   "source": [
    "# 输出指定区间内的素数\n",
    "\n",
    "low = int(input(\"请输入最小值\"))\n",
    "high = int(input(\"请输入最大值\"))\n",
    "\n",
    "for i in range(low, high+1):\n",
    "    if i > 1:\n",
    "        for j in range(2, i):\n",
    "            if i % j == 0:\n",
    "                break\n",
    "        else:\n",
    "            print(i)"
   ]
  },
  {
   "cell_type": "code",
   "execution_count": 4,
   "metadata": {},
   "outputs": [
    {
     "name": "stdout",
     "output_type": "stream",
     "text": [
      "1*1=1 \n",
      "1*2=2 2*2=4 \n",
      "1*3=3 2*3=6 3*3=9 \n",
      "1*4=4 2*4=8 3*4=12 4*4=16 \n",
      "1*5=5 2*5=10 3*5=15 4*5=20 5*5=25 \n",
      "1*6=6 2*6=12 3*6=18 4*6=24 5*6=30 6*6=36 \n",
      "1*7=7 2*7=14 3*7=21 4*7=28 5*7=35 6*7=42 7*7=49 \n",
      "1*8=8 2*8=16 3*8=24 4*8=32 5*8=40 6*8=48 7*8=56 8*8=64 \n",
      "1*9=9 2*9=18 3*9=27 4*9=36 5*9=45 6*9=54 7*9=63 8*9=72 9*9=81 \n"
     ]
    }
   ],
   "source": [
    "# 实现九九乘法表\n",
    "for i in range(1, 10):\n",
    "    for j in range(1, i+1):\n",
    "        print(\"{}*{}={}\".format(j, i, i*j), end=' ')\n",
    "    print()"
   ]
  },
  {
   "cell_type": "code",
   "execution_count": 11,
   "metadata": {},
   "outputs": [
    {
     "name": "stdout",
     "output_type": "stream",
     "text": [
      "请输入序列个数3\n",
      "0 , 1,1,"
     ]
    }
   ],
   "source": [
    "# 实现斐波那契数列\n",
    "n = int(input('请输入序列个数'))\n",
    "n1 = 0\n",
    "n2 = 1\n",
    "count = 2\n",
    "\n",
    "if n <= 0:\n",
    "    print('illegal')\n",
    "elif n == 1:\n",
    "    print(n1)\n",
    "else:\n",
    "    print(n1, ',', n2, end=',')\n",
    "    while count < n:\n",
    "        c = n1 + n2\n",
    "        print(c, end=',')\n",
    "        n1 = n2\n",
    "        n2 = c\n",
    "        count += 1\n",
    "    "
   ]
  },
  {
   "cell_type": "code",
   "execution_count": 16,
   "metadata": {},
   "outputs": [
    {
     "name": "stdout",
     "output_type": "stream",
     "text": [
      "请输入：255\n",
      "False\n"
     ]
    }
   ],
   "source": [
    "# 阿姆斯特朗数， 水仙花树\n",
    "n = input('请输入：')\n",
    "l = len(n)\n",
    "n = int(n)\n",
    "sum = 0\n",
    "\n",
    "temp = n\n",
    "while temp > 0:\n",
    "    d = temp % 10\n",
    "    sum += d ** l\n",
    "    temp //= 10\n",
    "if sum == n:\n",
    "    print('True')\n",
    "else:\n",
    "    print('False')"
   ]
  },
  {
   "cell_type": "code",
   "execution_count": 2,
   "metadata": {},
   "outputs": [
    {
     "name": "stdout",
     "output_type": "stream",
     "text": [
      "请输入数字20\n",
      "十进制： 20\n",
      "二进制: 0b10100\n",
      "八进制 0o24\n",
      "十六进制 0x14\n"
     ]
    }
   ],
   "source": [
    "# 进制转换\n",
    "dec = int(input(\"请输入数字\"))\n",
    "print(\"十进制：\", dec)\n",
    "print(\"二进制:\", bin(dec))\n",
    "print(\"八进制\", oct(dec))\n",
    "print(\"十六进制\", hex(dec))"
   ]
  },
  {
   "cell_type": "code",
   "execution_count": 4,
   "metadata": {},
   "outputs": [
    {
     "name": "stdout",
     "output_type": "stream",
     "text": [
      "请输入一个字符c\n",
      "请输入一个数字97\n",
      "99 a\n"
     ]
    }
   ],
   "source": [
    "# 进制转换\n",
    "c = input(\"请输入一个字符\")\n",
    "d = int(input(\"请输入一个数字\"))\n",
    "aci = ord(c)\n",
    "ch = chr(d)\n",
    "print(aci, ch)"
   ]
  },
  {
   "cell_type": "code",
   "execution_count": 5,
   "metadata": {},
   "outputs": [
    {
     "name": "stdout",
     "output_type": "stream",
     "text": [
      "请输入一个数字12\n",
      "请输入一个数字24\n",
      "12\n"
     ]
    }
   ],
   "source": [
    "# 计算最大公约数\n",
    "def gcd(x, y):\n",
    "    small = min(x, y)\n",
    "    for i in range(1, small+1):\n",
    "        if x % i == 0 and y % i == 0:\n",
    "            gcd = i\n",
    "    return gcd\n",
    "num1 = int(input(\"请输入一个数字\"))\n",
    "num2 = int(input(\"请输入一个数字\"))\n",
    "print(gcd(num1, num2))"
   ]
  },
  {
   "cell_type": "code",
   "execution_count": 7,
   "metadata": {},
   "outputs": [
    {
     "name": "stdout",
     "output_type": "stream",
     "text": [
      "请输入一个数字12\n",
      "请输入一个数字24\n",
      "24\n"
     ]
    }
   ],
   "source": [
    "# 计算最小公倍数\n",
    "def lcm(x, y):\n",
    "    big = max(x, y)\n",
    "    while(True):\n",
    "        if big % x == 0 and big % y == 0:\n",
    "            lcm = big\n",
    "            break\n",
    "        big += 1\n",
    "    return lcm\n",
    "num1 = int(input(\"请输入一个数字\"))\n",
    "num2 = int(input(\"请输入一个数字\"))\n",
    "print(lcm(num1, num2))"
   ]
  },
  {
   "cell_type": "code",
   "execution_count": 9,
   "metadata": {},
   "outputs": [
    {
     "name": "stdout",
     "output_type": "stream",
     "text": [
      "请输入一个数字10\n",
      "55\n"
     ]
    }
   ],
   "source": [
    "# 实现斐波那契数列\n",
    "def fibo(n):\n",
    "    if n <= 1:\n",
    "        return n\n",
    "    else:\n",
    "        return fibo(n-1) + fibo(n-2)\n",
    "num1 = int(input(\"请输入一个数字\"))\n",
    "print(fibo(num1))"
   ]
  },
  {
   "cell_type": "code",
   "execution_count": 11,
   "metadata": {},
   "outputs": [
    {
     "name": "stdout",
     "output_type": "stream",
     "text": [
      "2020-08-06\n"
     ]
    }
   ],
   "source": [
    "# 获取昨天的日期\n",
    "import datetime\n",
    "def get_yesterday():\n",
    "    today = datetime.date.today()\n",
    "    oneday = datetime.timedelta(days=1)\n",
    "    yesterday = today - oneday\n",
    "    return yesterday\n",
    "print(get_yesterday())"
   ]
  },
  {
   "cell_type": "code",
   "execution_count": 13,
   "metadata": {},
   "outputs": [
    {
     "name": "stdout",
     "output_type": "stream",
     "text": [
      "9下船\n",
      "18下船\n",
      "27下船\n",
      "6下船\n",
      "16下船\n",
      "26下船\n",
      "7下船\n",
      "19下船\n",
      "30下船\n",
      "12下船\n",
      "24下船\n",
      "8下船\n",
      "22下船\n",
      "5下船\n",
      "23下船\n",
      "11下船\n"
     ]
    }
   ],
   "source": [
    "# 约瑟夫生死小游戏\n",
    "people = {}\n",
    "for i in range(31):\n",
    "    people[i] = 1\n",
    "\n",
    "check = 0\n",
    "i = 1 # 位置\n",
    "j = 0 # 下船人数\n",
    "while i <= 31:\n",
    "    if i== 31:\n",
    "        i = 1\n",
    "    elif j == 16:\n",
    "        break\n",
    "    else:\n",
    "        if people[i] == 0:  # 第i个位置的人已经下船\n",
    "            i += 1\n",
    "            continue\n",
    "        else:\n",
    "            check += 1\n",
    "            if check == 9:\n",
    "                people[i] = 0\n",
    "                check = 0\n",
    "                print(\"{}下船\".format(i))\n",
    "                j += 1\n",
    "            else:\n",
    "                i += 1\n",
    "                continue"
   ]
  },
  {
   "cell_type": "code",
   "execution_count": null,
   "metadata": {},
   "outputs": [],
   "source": [
    "# 计算自然数的立方和\n",
    "n= int(input(\"请输入一个数字\"))\n",
    "sum \n",
    "for i in range(1, n+1):\n",
    "    "
   ]
  }
 ],
 "metadata": {
  "kernelspec": {
   "display_name": "Python 3",
   "language": "python",
   "name": "python3"
  },
  "language_info": {
   "codemirror_mode": {
    "name": "ipython",
    "version": 3
   },
   "file_extension": ".py",
   "mimetype": "text/x-python",
   "name": "python",
   "nbconvert_exporter": "python",
   "pygments_lexer": "ipython3",
   "version": "3.7.4"
  }
 },
 "nbformat": 4,
 "nbformat_minor": 4
}
