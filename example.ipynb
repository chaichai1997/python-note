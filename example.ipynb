{
 "cells": [
  {
   "cell_type": "code",
   "execution_count": 2,
   "metadata": {},
   "outputs": [
    {
     "name": "stdout",
     "output_type": "stream",
     "text": [
      "请输入最小值1\n",
      "请输入最大值10\n",
      "2\n",
      "3\n",
      "5\n",
      "7\n"
     ]
    }
   ],
   "source": [
    "# 输出指定区间内的素数\n",
    "\n",
    "low = int(input(\"请输入最小值\"))\n",
    "high = int(input(\"请输入最大值\"))\n",
    "\n",
    "for i in range(low, high+1):\n",
    "    if i > 1:\n",
    "        for j in range(2, i):\n",
    "            if i % j == 0:\n",
    "                break\n",
    "        else:\n",
    "            print(i)"
   ]
  },
  {
   "cell_type": "code",
   "execution_count": 4,
   "metadata": {},
   "outputs": [
    {
     "name": "stdout",
     "output_type": "stream",
     "text": [
      "1*1=1 \n",
      "1*2=2 2*2=4 \n",
      "1*3=3 2*3=6 3*3=9 \n",
      "1*4=4 2*4=8 3*4=12 4*4=16 \n",
      "1*5=5 2*5=10 3*5=15 4*5=20 5*5=25 \n",
      "1*6=6 2*6=12 3*6=18 4*6=24 5*6=30 6*6=36 \n",
      "1*7=7 2*7=14 3*7=21 4*7=28 5*7=35 6*7=42 7*7=49 \n",
      "1*8=8 2*8=16 3*8=24 4*8=32 5*8=40 6*8=48 7*8=56 8*8=64 \n",
      "1*9=9 2*9=18 3*9=27 4*9=36 5*9=45 6*9=54 7*9=63 8*9=72 9*9=81 \n"
     ]
    }
   ],
   "source": [
    "# 实现九九乘法表\n",
    "for i in range(1, 10):\n",
    "    for j in range(1, i+1):\n",
    "        print(\"{}*{}={}\".format(j, i, i*j), end=' ')\n",
    "    print()"
   ]
  },
  {
   "cell_type": "code",
   "execution_count": 11,
   "metadata": {},
   "outputs": [
    {
     "name": "stdout",
     "output_type": "stream",
     "text": [
      "请输入序列个数3\n",
      "0 , 1,1,"
     ]
    }
   ],
   "source": [
    "# 实现斐波那契数列\n",
    "n = int(input('请输入序列个数'))\n",
    "n1 = 0\n",
    "n2 = 1\n",
    "count = 2\n",
    "\n",
    "if n <= 0:\n",
    "    print('illegal')\n",
    "elif n == 1:\n",
    "    print(n1)\n",
    "else:\n",
    "    print(n1, ',', n2, end=',')\n",
    "    while count < n:\n",
    "        c = n1 + n2\n",
    "        print(c, end=',')\n",
    "        n1 = n2\n",
    "        n2 = c\n",
    "        count += 1\n",
    "    "
   ]
  },
  {
   "cell_type": "code",
   "execution_count": 16,
   "metadata": {},
   "outputs": [
    {
     "name": "stdout",
     "output_type": "stream",
     "text": [
      "请输入：255\n",
      "False\n"
     ]
    }
   ],
   "source": [
    "# 阿姆斯特朗数， 水仙花树\n",
    "n = input('请输入：')\n",
    "l = len(n)\n",
    "n = int(n)\n",
    "sum = 0\n",
    "\n",
    "temp = n\n",
    "while temp > 0:\n",
    "    d = temp % 10\n",
    "    sum += d ** l\n",
    "    temp //= 10\n",
    "if sum == n:\n",
    "    print('True')\n",
    "else:\n",
    "    print('False')"
   ]
  },
  {
   "cell_type": "code",
   "execution_count": 2,
   "metadata": {},
   "outputs": [
    {
     "name": "stdout",
     "output_type": "stream",
     "text": [
      "请输入数字20\n",
      "十进制： 20\n",
      "二进制: 0b10100\n",
      "八进制 0o24\n",
      "十六进制 0x14\n"
     ]
    }
   ],
   "source": [
    "# 进制转换\n",
    "dec = int(input(\"请输入数字\"))\n",
    "print(\"十进制：\", dec)\n",
    "print(\"二进制:\", bin(dec))\n",
    "print(\"八进制\", oct(dec))\n",
    "print(\"十六进制\", hex(dec))"
   ]
  },
  {
   "cell_type": "code",
   "execution_count": 4,
   "metadata": {},
   "outputs": [
    {
     "name": "stdout",
     "output_type": "stream",
     "text": [
      "请输入一个字符c\n",
      "请输入一个数字97\n",
      "99 a\n"
     ]
    }
   ],
   "source": [
    "# 进制转换\n",
    "c = input(\"请输入一个字符\")\n",
    "d = int(input(\"请输入一个数字\"))\n",
    "aci = ord(c)\n",
    "ch = chr(d)\n",
    "print(aci, ch)"
   ]
  },
  {
   "cell_type": "code",
   "execution_count": 5,
   "metadata": {},
   "outputs": [
    {
     "name": "stdout",
     "output_type": "stream",
     "text": [
      "请输入一个数字12\n",
      "请输入一个数字24\n",
      "12\n"
     ]
    }
   ],
   "source": [
    "# 计算最大公约数\n",
    "def gcd(x, y):\n",
    "    small = min(x, y)\n",
    "    for i in range(1, small+1):\n",
    "        if x % i == 0 and y % i == 0:\n",
    "            gcd = i\n",
    "    return gcd\n",
    "num1 = int(input(\"请输入一个数字\"))\n",
    "num2 = int(input(\"请输入一个数字\"))\n",
    "print(gcd(num1, num2))"
   ]
  },
  {
   "cell_type": "code",
   "execution_count": 7,
   "metadata": {},
   "outputs": [
    {
     "name": "stdout",
     "output_type": "stream",
     "text": [
      "请输入一个数字12\n",
      "请输入一个数字24\n",
      "24\n"
     ]
    }
   ],
   "source": [
    "# 计算最小公倍数\n",
    "def lcm(x, y):\n",
    "    big = max(x, y)\n",
    "    while(True):\n",
    "        if big % x == 0 and big % y == 0:\n",
    "            lcm = big\n",
    "            break\n",
    "        big += 1\n",
    "    return lcm\n",
    "num1 = int(input(\"请输入一个数字\"))\n",
    "num2 = int(input(\"请输入一个数字\"))\n",
    "print(lcm(num1, num2))"
   ]
  },
  {
   "cell_type": "code",
   "execution_count": 9,
   "metadata": {},
   "outputs": [
    {
     "name": "stdout",
     "output_type": "stream",
     "text": [
      "请输入一个数字10\n",
      "55\n"
     ]
    }
   ],
   "source": [
    "# 实现斐波那契数列\n",
    "def fibo(n):\n",
    "    if n <= 1:\n",
    "        return n\n",
    "    else:\n",
    "        return fibo(n-1) + fibo(n-2)\n",
    "num1 = int(input(\"请输入一个数字\"))\n",
    "print(fibo(num1))"
   ]
  },
  {
   "cell_type": "code",
   "execution_count": 11,
   "metadata": {},
   "outputs": [
    {
     "name": "stdout",
     "output_type": "stream",
     "text": [
      "2020-08-06\n"
     ]
    }
   ],
   "source": [
    "# 获取昨天的日期\n",
    "import datetime\n",
    "def get_yesterday():\n",
    "    today = datetime.date.today()\n",
    "    oneday = datetime.timedelta(days=1)\n",
    "    yesterday = today - oneday\n",
    "    return yesterday\n",
    "print(get_yesterday())"
   ]
  },
  {
   "cell_type": "code",
   "execution_count": 13,
   "metadata": {},
   "outputs": [
    {
     "name": "stdout",
     "output_type": "stream",
     "text": [
      "9下船\n",
      "18下船\n",
      "27下船\n",
      "6下船\n",
      "16下船\n",
      "26下船\n",
      "7下船\n",
      "19下船\n",
      "30下船\n",
      "12下船\n",
      "24下船\n",
      "8下船\n",
      "22下船\n",
      "5下船\n",
      "23下船\n",
      "11下船\n"
     ]
    }
   ],
   "source": [
    "# 约瑟夫生死小游戏\n",
    "people = {}\n",
    "for i in range(31):\n",
    "    people[i] = 1\n",
    "\n",
    "check = 0\n",
    "i = 1 # 位置\n",
    "j = 0 # 下船人数\n",
    "while i <= 31:\n",
    "    if i== 31:\n",
    "        i = 1\n",
    "    elif j == 16:\n",
    "        break\n",
    "    else:\n",
    "        if people[i] == 0:  # 第i个位置的人已经下船\n",
    "            i += 1\n",
    "            continue\n",
    "        else:\n",
    "            check += 1\n",
    "            if check == 9:\n",
    "                people[i] = 0\n",
    "                check = 0\n",
    "                print(\"{}下船\".format(i))\n",
    "                j += 1\n",
    "            else:\n",
    "                i += 1\n",
    "                continue"
   ]
  },
  {
   "cell_type": "code",
   "execution_count": 14,
   "metadata": {},
   "outputs": [
    {
     "name": "stdout",
     "output_type": "stream",
     "text": [
      "请输入一个数字5\n",
      "225\n"
     ]
    }
   ],
   "source": [
    "# 计算自然数的立方和\n",
    "n= int(input(\"请输入一个数字\"))\n",
    "sum = 0\n",
    "for i in range(1, n+1):\n",
    "    sum += i ** 3\n",
    "print(sum)"
   ]
  },
  {
   "cell_type": "code",
   "execution_count": 28,
   "metadata": {},
   "outputs": [
    {
     "name": "stdout",
     "output_type": "stream",
     "text": [
      "请输入一个数字2\n",
      "[1, 2] [3, 4, 5]\n",
      "[3, 4, 5, 1, 2]\n",
      "False\n"
     ]
    }
   ],
   "source": [
    "# 数组翻转\n",
    "list = [1, 2, 3, 4, 5]\n",
    "num1 = int(input(\"请输入一个数字\"))\n",
    "list1 = list[:num1]\n",
    "list2 = list[num1:]\n",
    "print(list1, list2)\n",
    "print(list2+list1)\n",
    "print(6 in list)"
   ]
  },
  {
   "cell_type": "code",
   "execution_count": 31,
   "metadata": {},
   "outputs": [
    {
     "data": {
      "text/plain": [
       "1"
      ]
     },
     "execution_count": 31,
     "metadata": {},
     "output_type": "execute_result"
    }
   ],
   "source": [
    "list.count(2)"
   ]
  },
  {
   "cell_type": "code",
   "execution_count": 35,
   "metadata": {},
   "outputs": [
    {
     "data": {
      "text/plain": [
       "'helo word'"
      ]
     },
     "execution_count": 35,
     "metadata": {},
     "output_type": "execute_result"
    }
   ],
   "source": [
    "s = 'hello word'\n",
    "s = s[:2] + s[3:]\n",
    "s"
   ]
  },
  {
   "cell_type": "code",
   "execution_count": 4,
   "metadata": {},
   "outputs": [
    {
     "name": "stdout",
     "output_type": "stream",
     "text": [
      "Urls:  ['https://www.nowcoder.com', 'https://www.google.com']\n"
     ]
    }
   ],
   "source": [
    "# 正则表达式获取url\n",
    "import re\n",
    "\n",
    "def find_url(str):\n",
    "    url = re.findall('https?://(?:[-\\w.]|(?:%[\\da-fA-F]{2}))+', string)\n",
    "    return url\n",
    " \n",
    "string = 'Nowcoder 的网页地址为：https://www.nowcoder.com，Google 的网页地址为：https://www.google.com'\n",
    "print(\"Urls: \", find_url(string))"
   ]
  },
  {
   "cell_type": "code",
   "execution_count": 5,
   "metadata": {},
   "outputs": [
    {
     "name": "stdout",
     "output_type": "stream",
     "text": [
      "None {'a': 10, 'b': 8, 'd': 6, 'c': 4} {'d': 6, 'c': 4}\n"
     ]
    }
   ],
   "source": [
    "# 合并字典\n",
    "def merge(dict1, dict2):\n",
    "    return dict1.update(dict2)\n",
    "\n",
    "dict1 = {'a': 10, 'b': 8}\n",
    "dict2 = {'d': 6, 'c': 4}\n",
    "\n",
    "print(merge(dict1, dict2), dict1, dict2)"
   ]
  },
  {
   "cell_type": "code",
   "execution_count": 6,
   "metadata": {},
   "outputs": [
    {
     "name": "stdout",
     "output_type": "stream",
     "text": [
      "3\n"
     ]
    }
   ],
   "source": [
    "# 二分查找\n",
    "def search_binary(arr, l, r, x):\n",
    "    if r >= 1:\n",
    "        mid = int(1+(r-l)/2)\n",
    "        \n",
    "        if arr[mid] == x:\n",
    "            return mid\n",
    "        elif arr[mid] > x:\n",
    "            return search_binary(arr, l, mid-1, x)\n",
    "        else:\n",
    "            return search_binary(arr,mid+1, r, x)\n",
    "    else:\n",
    "        return -1\n",
    "    \n",
    "\n",
    "arr = [1, 2, 3, 4, 5]\n",
    "x = 4\n",
    "result = search_binary(arr, 0, len(arr)-1, x)\n",
    "print(result)"
   ]
  },
  {
   "cell_type": "code",
   "execution_count": 8,
   "metadata": {},
   "outputs": [
    {
     "name": "stdout",
     "output_type": "stream",
     "text": [
      "3\n"
     ]
    }
   ],
   "source": [
    "# 线性\n",
    "def search_binary(arr, x):\n",
    "    for index,value in enumerate(arr):\n",
    "        if value == x:\n",
    "            return index\n",
    "    return -1\n",
    "\n",
    "arr = [1, 2, 3, 4, 5]\n",
    "x = 4\n",
    "result = search_binary(arr,x)\n",
    "print(result)"
   ]
  },
  {
   "cell_type": "code",
   "execution_count": 12,
   "metadata": {},
   "outputs": [
    {
     "name": "stdout",
     "output_type": "stream",
     "text": [
      "[5, 6, 11, 12, 13]\n"
     ]
    }
   ],
   "source": [
    "# 插入排序\n",
    "def sort_insert(arr):\n",
    "    for i in range(1, len(arr)):\n",
    "        tmp = arr[i]\n",
    "        \n",
    "        j = i - 1\n",
    "        while j >= 0 and tmp < arr[j]:\n",
    "            arr[j+1] = arr[j]\n",
    "            j -= 1\n",
    "        arr[j+1] = tmp\n",
    "        \n",
    "arr = [12, 11, 13, 5, 6]\n",
    "sort_insert(arr)\n",
    "print(arr)"
   ]
  },
  {
   "cell_type": "code",
   "execution_count": 13,
   "metadata": {},
   "outputs": [
    {
     "name": "stdout",
     "output_type": "stream",
     "text": [
      "[5, 6, 11, 12, 13]\n"
     ]
    }
   ],
   "source": [
    "# 快速排序\n",
    "\n",
    "def sort_quick(data, left, right):\n",
    "    if left >= right:\n",
    "        return data\n",
    "    key = ardatar[left]\n",
    "    low = left\n",
    "    high = right\n",
    "    while left < right:\n",
    "        while left < right and data[right] > key:\n",
    "            right -= 1\n",
    "        data[left] = data[right]\n",
    "        data[right] = key\n",
    "        sort_quick(data, low, left-1)\n",
    "        sort_quick(data, low+1, left-1)\n",
    "arr = [12, 11, 13, 5, 6]\n",
    "sort_insert(arr)\n",
    "print(arr)"
   ]
  },
  {
   "cell_type": "code",
   "execution_count": 22,
   "metadata": {},
   "outputs": [
    {
     "name": "stdout",
     "output_type": "stream",
     "text": [
      "[5, 6, 11, 12, 13]\n"
     ]
    }
   ],
   "source": [
    "# 选择排序\n",
    "\n",
    "def sort_choose(data):\n",
    "    for i in range(len(data)):\n",
    "        min = i \n",
    "        for j in range(i+1, len(data)):\n",
    "            if data[j] < data[min]:\n",
    "                min = j\n",
    "        data[i], data[min] = data[min], data[i]\n",
    "\n",
    "arr = [12, 11, 13, 5, 6]\n",
    "sort_choose(arr)\n",
    "print(arr)"
   ]
  },
  {
   "cell_type": "code",
   "execution_count": 26,
   "metadata": {},
   "outputs": [
    {
     "name": "stdout",
     "output_type": "stream",
     "text": [
      "[5, 6, 11, 12, 13]\n"
     ]
    }
   ],
   "source": [
    "# 冒泡排序\n",
    "def sort_bubble(data):\n",
    "    n = len(data)\n",
    "    for i in range(n):\n",
    "        for j in range(0, n-i-1):\n",
    "            if data[j] > data[j+1]:\n",
    "                data[j],data[j+1] = data[j+1], data[j]\n",
    "arr = [12, 11, 13, 5, 6]\n",
    "sort_bubble(arr)\n",
    "print(arr)  "
   ]
  },
  {
   "cell_type": "code",
   "execution_count": 28,
   "metadata": {},
   "outputs": [
    {
     "ename": "RecursionError",
     "evalue": "maximum recursion depth exceeded while calling a Python object",
     "output_type": "error",
     "traceback": [
      "\u001b[1;31m---------------------------------------------------------------------------\u001b[0m",
      "\u001b[1;31mRecursionError\u001b[0m                            Traceback (most recent call last)",
      "\u001b[1;32m<ipython-input-28-9925ceabd25e>\u001b[0m in \u001b[0;36m<module>\u001b[1;34m\u001b[0m\n\u001b[0;32m     21\u001b[0m \u001b[1;33m\u001b[0m\u001b[0m\n\u001b[0;32m     22\u001b[0m \u001b[0marr\u001b[0m \u001b[1;33m=\u001b[0m \u001b[1;33m[\u001b[0m\u001b[1;36m12\u001b[0m\u001b[1;33m,\u001b[0m \u001b[1;36m11\u001b[0m\u001b[1;33m,\u001b[0m \u001b[1;36m13\u001b[0m\u001b[1;33m,\u001b[0m \u001b[1;36m5\u001b[0m\u001b[1;33m,\u001b[0m \u001b[1;36m6\u001b[0m\u001b[1;33m]\u001b[0m\u001b[1;33m\u001b[0m\u001b[1;33m\u001b[0m\u001b[0m\n\u001b[1;32m---> 23\u001b[1;33m \u001b[0mli\u001b[0m \u001b[1;33m=\u001b[0m \u001b[0mmerge_sort\u001b[0m\u001b[1;33m(\u001b[0m\u001b[0marr\u001b[0m\u001b[1;33m)\u001b[0m\u001b[1;33m\u001b[0m\u001b[1;33m\u001b[0m\u001b[0m\n\u001b[0m\u001b[0;32m     24\u001b[0m \u001b[0mprint\u001b[0m\u001b[1;33m(\u001b[0m\u001b[0mli\u001b[0m\u001b[1;33m)\u001b[0m\u001b[1;33m\u001b[0m\u001b[1;33m\u001b[0m\u001b[0m\n",
      "\u001b[1;32m<ipython-input-28-9925ceabd25e>\u001b[0m in \u001b[0;36mmerge_sort\u001b[1;34m(data)\u001b[0m\n\u001b[0;32m     16\u001b[0m     \u001b[0mn\u001b[0m \u001b[1;33m=\u001b[0m \u001b[0mlen\u001b[0m\u001b[1;33m(\u001b[0m\u001b[0mdata\u001b[0m\u001b[1;33m)\u001b[0m\u001b[1;33m\u001b[0m\u001b[1;33m\u001b[0m\u001b[0m\n\u001b[0;32m     17\u001b[0m     \u001b[0mnum\u001b[0m \u001b[1;33m=\u001b[0m \u001b[0mn\u001b[0m\u001b[1;33m//\u001b[0m\u001b[1;36m2\u001b[0m\u001b[1;33m\u001b[0m\u001b[1;33m\u001b[0m\u001b[0m\n\u001b[1;32m---> 18\u001b[1;33m     \u001b[0mleft\u001b[0m \u001b[1;33m=\u001b[0m \u001b[0mmerge_sort\u001b[0m\u001b[1;33m(\u001b[0m\u001b[0mdata\u001b[0m\u001b[1;33m[\u001b[0m\u001b[1;33m:\u001b[0m\u001b[0mnum\u001b[0m\u001b[1;33m]\u001b[0m\u001b[1;33m)\u001b[0m\u001b[1;33m\u001b[0m\u001b[1;33m\u001b[0m\u001b[0m\n\u001b[0m\u001b[0;32m     19\u001b[0m     \u001b[0mright\u001b[0m \u001b[1;33m=\u001b[0m \u001b[0mmerge_sort\u001b[0m\u001b[1;33m(\u001b[0m\u001b[0mdata\u001b[0m\u001b[1;33m[\u001b[0m\u001b[0mnum\u001b[0m\u001b[1;33m:\u001b[0m\u001b[1;33m]\u001b[0m\u001b[1;33m)\u001b[0m\u001b[1;33m\u001b[0m\u001b[1;33m\u001b[0m\u001b[0m\n\u001b[0;32m     20\u001b[0m     \u001b[1;32mreturn\u001b[0m \u001b[0mmerge\u001b[0m\u001b[1;33m(\u001b[0m\u001b[0mleft\u001b[0m\u001b[1;33m,\u001b[0m \u001b[0mright\u001b[0m\u001b[1;33m)\u001b[0m\u001b[1;33m\u001b[0m\u001b[1;33m\u001b[0m\u001b[0m\n",
      "... last 1 frames repeated, from the frame below ...\n",
      "\u001b[1;32m<ipython-input-28-9925ceabd25e>\u001b[0m in \u001b[0;36mmerge_sort\u001b[1;34m(data)\u001b[0m\n\u001b[0;32m     16\u001b[0m     \u001b[0mn\u001b[0m \u001b[1;33m=\u001b[0m \u001b[0mlen\u001b[0m\u001b[1;33m(\u001b[0m\u001b[0mdata\u001b[0m\u001b[1;33m)\u001b[0m\u001b[1;33m\u001b[0m\u001b[1;33m\u001b[0m\u001b[0m\n\u001b[0;32m     17\u001b[0m     \u001b[0mnum\u001b[0m \u001b[1;33m=\u001b[0m \u001b[0mn\u001b[0m\u001b[1;33m//\u001b[0m\u001b[1;36m2\u001b[0m\u001b[1;33m\u001b[0m\u001b[1;33m\u001b[0m\u001b[0m\n\u001b[1;32m---> 18\u001b[1;33m     \u001b[0mleft\u001b[0m \u001b[1;33m=\u001b[0m \u001b[0mmerge_sort\u001b[0m\u001b[1;33m(\u001b[0m\u001b[0mdata\u001b[0m\u001b[1;33m[\u001b[0m\u001b[1;33m:\u001b[0m\u001b[0mnum\u001b[0m\u001b[1;33m]\u001b[0m\u001b[1;33m)\u001b[0m\u001b[1;33m\u001b[0m\u001b[1;33m\u001b[0m\u001b[0m\n\u001b[0m\u001b[0;32m     19\u001b[0m     \u001b[0mright\u001b[0m \u001b[1;33m=\u001b[0m \u001b[0mmerge_sort\u001b[0m\u001b[1;33m(\u001b[0m\u001b[0mdata\u001b[0m\u001b[1;33m[\u001b[0m\u001b[0mnum\u001b[0m\u001b[1;33m:\u001b[0m\u001b[1;33m]\u001b[0m\u001b[1;33m)\u001b[0m\u001b[1;33m\u001b[0m\u001b[1;33m\u001b[0m\u001b[0m\n\u001b[0;32m     20\u001b[0m     \u001b[1;32mreturn\u001b[0m \u001b[0mmerge\u001b[0m\u001b[1;33m(\u001b[0m\u001b[0mleft\u001b[0m\u001b[1;33m,\u001b[0m \u001b[0mright\u001b[0m\u001b[1;33m)\u001b[0m\u001b[1;33m\u001b[0m\u001b[1;33m\u001b[0m\u001b[0m\n",
      "\u001b[1;31mRecursionError\u001b[0m: maximum recursion depth exceeded while calling a Python object"
     ]
    }
   ],
   "source": [
    "# 归并排序\n",
    "def merge(left, right):\n",
    "    l = len(left)\n",
    "    r = len(right)\n",
    "    i, j = 0\n",
    "    result = []\n",
    "    while i < l  and j < r:\n",
    "        if left[i] < right[j]:\n",
    "            result.append(left[i])\n",
    "        else:\n",
    "            result.append(right[j])\n",
    "    result += left[i:]\n",
    "    result += right[j:]\n",
    "    \n",
    "def merge_sort(data):\n",
    "    n = len(data)\n",
    "    num = n//2\n",
    "    left = merge_sort(data[:num])\n",
    "    right = merge_sort(data[num:])\n",
    "    return merge(left, right)\n",
    "\n",
    "arr = [12, 11, 13, 5, 6]\n",
    "li = merge_sort(arr)\n",
    "print(li)"
   ]
  },
  {
   "cell_type": "code",
   "execution_count": null,
   "metadata": {},
   "outputs": [],
   "source": []
  }
 ],
 "metadata": {
  "kernelspec": {
   "display_name": "Python 3",
   "language": "python",
   "name": "python3"
  },
  "language_info": {
   "codemirror_mode": {
    "name": "ipython",
    "version": 3
   },
   "file_extension": ".py",
   "mimetype": "text/x-python",
   "name": "python",
   "nbconvert_exporter": "python",
   "pygments_lexer": "ipython3",
   "version": "3.7.4"
  }
 },
 "nbformat": 4,
 "nbformat_minor": 4
}
