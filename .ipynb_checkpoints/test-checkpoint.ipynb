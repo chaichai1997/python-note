{
 "cells": [
  {
   "cell_type": "code",
   "execution_count": 4,
   "metadata": {},
   "outputs": [
    {
     "name": "stdout",
     "output_type": "stream",
     "text": [
      "(0, 3)\n",
      "None\n"
     ]
    }
   ],
   "source": [
    "import re\n",
    "# 从起始位置匹配pattern\n",
    "print(re.match(\"www\", \"www.baidu.com\").span())\n",
    "print(re.match(\"com\", \"www.baidu.com\"))"
   ]
  },
  {
   "cell_type": "code",
   "execution_count": 5,
   "metadata": {},
   "outputs": [
    {
     "name": "stdout",
     "output_type": "stream",
     "text": [
      "(10, 13)\n"
     ]
    }
   ],
   "source": [
    "# 扫描并返回第一个成功的匹配\n",
    "print(re.search(\"com\", \"www.baidu.com\").span())"
   ]
  },
  {
   "cell_type": "code",
   "execution_count": 7,
   "metadata": {},
   "outputs": [
    {
     "name": "stdout",
     "output_type": "stream",
     "text": [
      "www.baidu.cn\n"
     ]
    }
   ],
   "source": [
    "# 替换字符串中的匹配项\n",
    "print(re.sub(\"com\",\"cn\", \"www.baidu.com\"))"
   ]
  },
  {
   "cell_type": "code",
   "execution_count": 9,
   "metadata": {},
   "outputs": [
    {
     "name": "stdout",
     "output_type": "stream",
     "text": [
      "['www', 'www']\n"
     ]
    }
   ],
   "source": [
    "pattern = re.compile(\"www\")\n",
    "print(pattern.findall(\"www.www.CCTV\"))"
   ]
  },
  {
   "cell_type": "code",
   "execution_count": 10,
   "metadata": {},
   "outputs": [
    {
     "name": "stdout",
     "output_type": "stream",
     "text": [
      "<callable_iterator object at 0x00000228F104A1C8>\n"
     ]
    }
   ],
   "source": [
    "pattern = re.compile(\"www\")\n",
    "print(pattern.finditer(\"www.www.CCTV\"))"
   ]
  },
  {
   "cell_type": "code",
   "execution_count": 11,
   "metadata": {},
   "outputs": [
    {
     "name": "stdout",
     "output_type": "stream",
     "text": [
      "['', '.', '.CCTV']\n"
     ]
    }
   ],
   "source": [
    "print(re.split(\"www\", \"www.www.CCTV\"))"
   ]
  },
  {
   "cell_type": "code",
   "execution_count": 12,
   "metadata": {},
   "outputs": [
    {
     "name": "stdout",
     "output_type": "stream",
     "text": [
      "10\n"
     ]
    }
   ],
   "source": [
    "print(re.search(\"com\", \"www.baidu.com\").start())"
   ]
  },
  {
   "cell_type": "code",
   "execution_count": null,
   "metadata": {},
   "outputs": [],
   "source": [
    "import socket\n",
    "import sys\n",
    "\n",
    "# 创建socket对象\n",
    "s = socket.socket(socket.AF_INET, socket.SOCK_STREAM)\n",
    "\n",
    "# 获取本地主机名\n",
    "host = socket.gethostbyname()\n",
    "\n",
    "port = 9999\n",
    "\n",
    "# 连接服务，指定主机和端口\n",
    "s.connect((host, port))\n",
    "\n",
    "# 接收小于1024字节的数据\n",
    "msg = s.recv(1024)\n",
    "\n",
    "s.close()\n"
   ]
  },
  {
   "cell_type": "code",
   "execution_count": null,
   "metadata": {},
   "outputs": [],
   "source": [
    "import threading\n",
    "threading.Thread.__init__()\n",
    "threading.s"
   ]
  },
  {
   "cell_type": "code",
   "execution_count": 2,
   "metadata": {},
   "outputs": [
    {
     "name": "stdout",
     "output_type": "stream",
     "text": [
      "{'no': 1, 'name': 'Newcoder', 'url': 'www.baidu.com'}\n",
      "{\"no\": 1, \"name\": \"Newcoder\", \"url\": \"www.baidu.com\"}\n",
      "data2['name'] Newcoder\n"
     ]
    }
   ],
   "source": [
    "import json\n",
    "\n",
    "data = {\n",
    "    'no':1,\n",
    "    'name' : 'Newcoder',\n",
    "    'url' : 'www.baidu.com'\n",
    "}\n",
    "json_str = json.dumps(data)\n",
    "print(data)\n",
    "print(json_str)\n",
    "\n",
    "data2 = json.loads(json_str)\n",
    "print(\"data2['name']\", data2['name'])"
   ]
  },
  {
   "cell_type": "code",
   "execution_count": 2,
   "metadata": {},
   "outputs": [
    {
     "name": "stdout",
     "output_type": "stream",
     "text": [
      "1594895067.4208505\n"
     ]
    }
   ],
   "source": [
    "import time\n",
    "print(time.time())"
   ]
  },
  {
   "cell_type": "code",
   "execution_count": 4,
   "metadata": {},
   "outputs": [
    {
     "name": "stdout",
     "output_type": "stream",
     "text": [
      "time.struct_time(tm_year=2020, tm_mon=7, tm_mday=16, tm_hour=18, tm_min=50, tm_sec=11, tm_wday=3, tm_yday=198, tm_isdst=0)\n"
     ]
    }
   ],
   "source": [
    "# 获取当前时间\n",
    "local_time = time.localtime(time.time())\n",
    "print(local_time)"
   ]
  },
  {
   "cell_type": "code",
   "execution_count": 6,
   "metadata": {},
   "outputs": [
    {
     "name": "stdout",
     "output_type": "stream",
     "text": [
      "Thu Jul 16 18:54:15 2020\n"
     ]
    }
   ],
   "source": [
    "local_time = time.asctime(time.localtime(time.time()))\n",
    "print(local_time)"
   ]
  },
  {
   "cell_type": "code",
   "execution_count": 10,
   "metadata": {},
   "outputs": [
    {
     "name": "stdout",
     "output_type": "stream",
     "text": [
      "2020-07-16 18:58:44\n",
      "time.struct_time(tm_year=2020, tm_mon=7, tm_mday=16, tm_hour=18, tm_min=58, tm_sec=44, tm_wday=3, tm_yday=198, tm_isdst=0)\n"
     ]
    }
   ],
   "source": [
    "print(time.strftime(\"%Y-%m-%d %H:%M:%S\", time.localtime()))"
   ]
  },
  {
   "cell_type": "code",
   "execution_count": 13,
   "metadata": {},
   "outputs": [
    {
     "name": "stdout",
     "output_type": "stream",
     "text": [
      "0\n",
      "                                  2020\n",
      "\n",
      "      January                   February                   March\n",
      "Mo Tu We Th Fr Sa Su      Mo Tu We Th Fr Sa Su      Mo Tu We Th Fr Sa Su\n",
      "       1  2  3  4  5                      1  2                         1\n",
      " 6  7  8  9 10 11 12       3  4  5  6  7  8  9       2  3  4  5  6  7  8\n",
      "13 14 15 16 17 18 19      10 11 12 13 14 15 16       9 10 11 12 13 14 15\n",
      "20 21 22 23 24 25 26      17 18 19 20 21 22 23      16 17 18 19 20 21 22\n",
      "27 28 29 30 31            24 25 26 27 28 29         23 24 25 26 27 28 29\n",
      "                                                    30 31\n",
      "\n",
      "       April                      May                       June\n",
      "Mo Tu We Th Fr Sa Su      Mo Tu We Th Fr Sa Su      Mo Tu We Th Fr Sa Su\n",
      "       1  2  3  4  5                   1  2  3       1  2  3  4  5  6  7\n",
      " 6  7  8  9 10 11 12       4  5  6  7  8  9 10       8  9 10 11 12 13 14\n",
      "13 14 15 16 17 18 19      11 12 13 14 15 16 17      15 16 17 18 19 20 21\n",
      "20 21 22 23 24 25 26      18 19 20 21 22 23 24      22 23 24 25 26 27 28\n",
      "27 28 29 30               25 26 27 28 29 30 31      29 30\n",
      "\n",
      "        July                     August                  September\n",
      "Mo Tu We Th Fr Sa Su      Mo Tu We Th Fr Sa Su      Mo Tu We Th Fr Sa Su\n",
      "       1  2  3  4  5                      1  2          1  2  3  4  5  6\n",
      " 6  7  8  9 10 11 12       3  4  5  6  7  8  9       7  8  9 10 11 12 13\n",
      "13 14 15 16 17 18 19      10 11 12 13 14 15 16      14 15 16 17 18 19 20\n",
      "20 21 22 23 24 25 26      17 18 19 20 21 22 23      21 22 23 24 25 26 27\n",
      "27 28 29 30 31            24 25 26 27 28 29 30      28 29 30\n",
      "                          31\n",
      "\n",
      "      October                   November                  December\n",
      "Mo Tu We Th Fr Sa Su      Mo Tu We Th Fr Sa Su      Mo Tu We Th Fr Sa Su\n",
      "          1  2  3  4                         1          1  2  3  4  5  6\n",
      " 5  6  7  8  9 10 11       2  3  4  5  6  7  8       7  8  9 10 11 12 13\n",
      "12 13 14 15 16 17 18       9 10 11 12 13 14 15      14 15 16 17 18 19 20\n",
      "19 20 21 22 23 24 25      16 17 18 19 20 21 22      21 22 23 24 25 26 27\n",
      "26 27 28 29 30 31         23 24 25 26 27 28 29      28 29 30 31\n",
      "                          30\n",
      "\n"
     ]
    }
   ],
   "source": [
    "import calendar\n",
    "print(calendar.firstweekday())\n",
    "print(calendar.calendar(2020,w=2,l=1,c=6)) "
   ]
  },
  {
   "cell_type": "code",
   "execution_count": 16,
   "metadata": {},
   "outputs": [
    {
     "data": {
      "text/plain": [
       "'     July 2020\\nMo Tu We Th Fr Sa Su\\n       1  2  3  4  5\\n 6  7  8  9 10 11 12\\n13 14 15 16 17 18 19\\n20 21 22 23 24 25 26\\n27 28 29 30 31\\n'"
      ]
     },
     "execution_count": 16,
     "metadata": {},
     "output_type": "execute_result"
    }
   ],
   "source": [
    "# 时间段内的瑞年总数\n",
    "calendar.leapdays(1999, 2020)\n",
    "# 月历\n",
    "calendar.month(2020,7,w=2,l=1) "
   ]
  },
  {
   "cell_type": "code",
   "execution_count": 1,
   "metadata": {},
   "outputs": [
    {
     "name": "stdout",
     "output_type": "stream",
     "text": [
      "2.0\n"
     ]
    }
   ],
   "source": [
    "# 开方 \n",
    "import math\n",
    "print(math.sqrt(4))"
   ]
  },
  {
   "cell_type": "code",
   "execution_count": 5,
   "metadata": {},
   "outputs": [
    {
     "name": "stdout",
     "output_type": "stream",
     "text": [
      "输入一个年份2020\n",
      "is leap\n"
     ]
    }
   ],
   "source": [
    "# 判断为瑞年\n",
    "year = int(input(\"输入一个年份\"))\n",
    "if (year % 4) == 0:\n",
    "    if (year % 100) == 0:\n",
    "        if (year % 400) == 0:\n",
    "            print('is leap')\n",
    "        else:\n",
    "            print('is not leap')\n",
    "    else:\n",
    "        print('is leap')\n",
    "else:\n",
    "    print('is not leap')"
   ]
  },
  {
   "cell_type": "code",
   "execution_count": 7,
   "metadata": {},
   "outputs": [
    {
     "data": {
      "text/plain": [
       "\"'test'\""
      ]
     },
     "execution_count": 7,
     "metadata": {},
     "output_type": "execute_result"
    }
   ],
   "source": [
    "repr('test')  # 返回一个对象的 string 格式"
   ]
  },
  {
   "cell_type": "code",
   "execution_count": 8,
   "metadata": {},
   "outputs": [
    {
     "data": {
      "text/plain": [
       "11"
      ]
     },
     "execution_count": 8,
     "metadata": {},
     "output_type": "execute_result"
    }
   ],
   "source": [
    "eval('2*4+3') # 执行一个字符串表达式并返回表达式的值"
   ]
  },
  {
   "cell_type": "code",
   "execution_count": 9,
   "metadata": {},
   "outputs": [
    {
     "name": "stdout",
     "output_type": "stream",
     "text": [
      "frozenset({0, 1, 2, 3, 4, 5, 6, 7, 8, 9})\n"
     ]
    }
   ],
   "source": [
    "f = frozenset(range(10)) # 冻结的集合，冻结后集合不能再添加或删除\n",
    "print(f)  "
   ]
  },
  {
   "cell_type": "code",
   "execution_count": 10,
   "metadata": {},
   "outputs": [
    {
     "data": {
      "text/plain": [
       "'0'"
      ]
     },
     "execution_count": 10,
     "metadata": {},
     "output_type": "execute_result"
    }
   ],
   "source": [
    "chr(48) # 将ASCII码转化为字符"
   ]
  },
  {
   "cell_type": "code",
   "execution_count": 12,
   "metadata": {},
   "outputs": [
    {
     "data": {
      "text/plain": [
       "48"
      ]
     },
     "execution_count": 12,
     "metadata": {},
     "output_type": "execute_result"
    }
   ],
   "source": [
    "ord('0')  #将字符转化为ASCII码的十进制"
   ]
  },
  {
   "cell_type": "code",
   "execution_count": 15,
   "metadata": {},
   "outputs": [
    {
     "name": "stdout",
     "output_type": "stream",
     "text": [
      "140714674712832\n",
      "140714674712832\n"
     ]
    }
   ],
   "source": [
    "a = 1\n",
    "b = 1\n",
    "print(id(a)) # id 获取对象的内存地址\n",
    "print(id(b))"
   ]
  },
  {
   "cell_type": "code",
   "execution_count": 16,
   "metadata": {},
   "outputs": [
    {
     "data": {
      "text/plain": [
       "4"
      ]
     },
     "execution_count": 16,
     "metadata": {},
     "output_type": "execute_result"
    }
   ],
   "source": [
    "math.ceil(math.pi) # 返回一个大于或等于输入的最小整数 4"
   ]
  },
  {
   "cell_type": "code",
   "execution_count": 17,
   "metadata": {},
   "outputs": [
    {
     "data": {
      "text/plain": [
       "7.38905609893065"
      ]
     },
     "execution_count": 17,
     "metadata": {},
     "output_type": "execute_result"
    }
   ],
   "source": [
    "math.exp(2)  # 返回e^2"
   ]
  },
  {
   "cell_type": "code",
   "execution_count": 18,
   "metadata": {},
   "outputs": [
    {
     "data": {
      "text/plain": [
       "3"
      ]
     },
     "execution_count": 18,
     "metadata": {},
     "output_type": "execute_result"
    }
   ],
   "source": [
    "math.floor(math.pi) # 返回输入的下取整 3"
   ]
  },
  {
   "cell_type": "code",
   "execution_count": 23,
   "metadata": {},
   "outputs": [
    {
     "data": {
      "text/plain": [
       "2.0"
      ]
     },
     "execution_count": 23,
     "metadata": {},
     "output_type": "execute_result"
    }
   ],
   "source": [
    "math.log10(100)"
   ]
  },
  {
   "cell_type": "code",
   "execution_count": 24,
   "metadata": {},
   "outputs": [
    {
     "data": {
      "text/plain": [
       "4.0"
      ]
     },
     "execution_count": 24,
     "metadata": {},
     "output_type": "execute_result"
    }
   ],
   "source": [
    "math.log(math.exp(4)) # 返回输入的对数"
   ]
  },
  {
   "cell_type": "code",
   "execution_count": 25,
   "metadata": {},
   "outputs": [
    {
     "data": {
      "text/plain": [
       "(0.14159265358979312, 3.0)"
      ]
     },
     "execution_count": 25,
     "metadata": {},
     "output_type": "execute_result"
    }
   ],
   "source": [
    "math.modf(math.pi)  # 返回输入的整数部分与小数部分"
   ]
  },
  {
   "cell_type": "code",
   "execution_count": 3,
   "metadata": {},
   "outputs": [
    {
     "ename": "NameError",
     "evalue": "name 'math' is not defined",
     "output_type": "error",
     "traceback": [
      "\u001b[1;31m---------------------------------------------------------------------------\u001b[0m",
      "\u001b[1;31mNameError\u001b[0m                                 Traceback (most recent call last)",
      "\u001b[1;32m<ipython-input-3-ccbded1a7c4e>\u001b[0m in \u001b[0;36m<module>\u001b[1;34m\u001b[0m\n\u001b[1;32m----> 1\u001b[1;33m \u001b[0mround\u001b[0m\u001b[1;33m(\u001b[0m\u001b[0mmath\u001b[0m\u001b[1;33m.\u001b[0m\u001b[0mpi\u001b[0m\u001b[1;33m,\u001b[0m \u001b[1;36m4\u001b[0m\u001b[1;33m)\u001b[0m  \u001b[1;31m# 返回浮点数的四舍五入，第二个参数为小数点后位数\u001b[0m\u001b[1;33m\u001b[0m\u001b[1;33m\u001b[0m\u001b[0m\n\u001b[0m",
      "\u001b[1;31mNameError\u001b[0m: name 'math' is not defined"
     ]
    }
   ],
   "source": [
    "round(math.pi, 4)  # 返回浮点数的四舍五入，第二个参数为小数点后位数"
   ]
  },
  {
   "cell_type": "code",
   "execution_count": 5,
   "metadata": {},
   "outputs": [
    {
     "name": "stdout",
     "output_type": "stream",
     "text": [
      "77\n",
      "1\n",
      ".\n"
     ]
    }
   ],
   "source": [
    "import random\n",
    "print(random.choice(range(100)))   #  返回随即项\n",
    "print(random.choice([1, 3, 5, 7, 9]))\n",
    "print(random.choice(\"www.aact.com\"))"
   ]
  },
  {
   "cell_type": "code",
   "execution_count": 6,
   "metadata": {},
   "outputs": [
    {
     "name": "stdout",
     "output_type": "stream",
     "text": [
      "60\n"
     ]
    }
   ],
   "source": [
    "print(random.randrange(0, 100, 2))  # start end step 返回指定递增集合中的一个随机数"
   ]
  },
  {
   "cell_type": "code",
   "execution_count": 8,
   "metadata": {},
   "outputs": [
    {
     "name": "stdout",
     "output_type": "stream",
     "text": [
      "38\n",
      "0.8797063351345739\n"
     ]
    }
   ],
   "source": [
    "# 随机数生成\n",
    "print(random.randint(1,100))\n",
    "print(random.random()) # 在[0,1)范围内生成一个随机数"
   ]
  },
  {
   "cell_type": "code",
   "execution_count": 11,
   "metadata": {},
   "outputs": [
    {
     "name": "stdout",
     "output_type": "stream",
     "text": [
      "39\n"
     ]
    }
   ],
   "source": [
    "random.seed()  # 设置种子\n",
    "print(random.randint(1, 100))"
   ]
  },
  {
   "cell_type": "code",
   "execution_count": 13,
   "metadata": {},
   "outputs": [
    {
     "name": "stdout",
     "output_type": "stream",
     "text": [
      "[3, 2, 1, 4, 5]\n"
     ]
    }
   ],
   "source": [
    "list = [1, 2, 3, 4, 5]\n",
    "random.shuffle(list)  # 将序列的元素随机排序，返回值为None\n",
    "print(list)"
   ]
  },
  {
   "cell_type": "code",
   "execution_count": 15,
   "metadata": {},
   "outputs": [
    {
     "name": "stdout",
     "output_type": "stream",
     "text": [
      "1.4621567951017114\n"
     ]
    }
   ],
   "source": [
    "print(random.uniform(1, 100))  # 生成满足范围的随机实数"
   ]
  },
  {
   "cell_type": "code",
   "execution_count": 16,
   "metadata": {},
   "outputs": [
    {
     "name": "stdout",
     "output_type": "stream",
     "text": [
      "5.0\n"
     ]
    }
   ],
   "source": [
    "import math\n",
    "print(math.hypot(3, 4)) # 返回欧几里得范数"
   ]
  },
  {
   "cell_type": "code",
   "execution_count": 18,
   "metadata": {},
   "outputs": [
    {
     "name": "stdout",
     "output_type": "stream",
     "text": [
      "90.0\n",
      "1.5707963267948966\n"
     ]
    }
   ],
   "source": [
    "print(math.degrees(math.pi/2)) # 将弧度转化为角度\n",
    "print(math.radians(90))  # 角度转化为弧度"
   ]
  },
  {
   "cell_type": "code",
   "execution_count": 20,
   "metadata": {},
   "outputs": [
    {
     "name": "stdout",
     "output_type": "stream",
     "text": [
      "-------------www.baidu.com--------------\n"
     ]
    }
   ],
   "source": [
    "str = \"www.baidu.com\"\n",
    "print((str.center(40, '-')))  # 返回一个指定宽度，字符串内容居中的字符串"
   ]
  },
  {
   "cell_type": "code",
   "execution_count": 23,
   "metadata": {},
   "outputs": [
    {
     "name": "stdout",
     "output_type": "stream",
     "text": [
      "3\n"
     ]
    }
   ],
   "source": [
    "string = 'www.baidu.cctv.com'\n",
    "print(string.count('.' , 0, -1))  # 找到字符串中指定位置中指定元素出现的个数"
   ]
  },
  {
   "cell_type": "code",
   "execution_count": 25,
   "metadata": {},
   "outputs": [
    {
     "name": "stdout",
     "output_type": "stream",
     "text": [
      "python 测试 \n",
      " b'python \\xe6\\xb5\\x8b\\xe8\\xaf\\x95' \n",
      " b'python \\xb2\\xe2\\xca\\xd4'\n",
      "python 测试\n",
      "python 测试\n"
     ]
    }
   ],
   "source": [
    "string = 'python 测试'\n",
    "str1 = string.encode('UTF-8')  # 编码 \n",
    "str2 = string.encode('GBK')\n",
    "print(string,'\\n', str1, '\\n', str2)\n",
    "\n",
    "print(str1.decode('UTF-8', 'strict')) # 解码\n",
    "print(str2.decode('GBK', 'strict'))"
   ]
  },
  {
   "cell_type": "code",
   "execution_count": 27,
   "metadata": {},
   "outputs": [
    {
     "name": "stdout",
     "output_type": "stream",
     "text": [
      "True\n",
      "False\n"
     ]
    }
   ],
   "source": [
    "string = 'www.baidu.cctv.com'\n",
    "print(string.endswith('com'))\n",
    "print(string.endswith('c'))"
   ]
  },
  {
   "cell_type": "code",
   "execution_count": 31,
   "metadata": {},
   "outputs": [
    {
     "name": "stdout",
     "output_type": "stream",
     "text": [
      "www.\tbaidu.cctv.com\n",
      "www.baidu.cctv.com\n"
     ]
    }
   ],
   "source": [
    "string = 'www.\\tbaidu.cctv.com'\n",
    "print(string)\n",
    "print(string.expandtabs(0))"
   ]
  },
  {
   "cell_type": "code",
   "execution_count": 33,
   "metadata": {},
   "outputs": [
    {
     "name": "stdout",
     "output_type": "stream",
     "text": [
      "3\n"
     ]
    },
    {
     "ename": "ValueError",
     "evalue": "substring not found",
     "output_type": "error",
     "traceback": [
      "\u001b[1;31m---------------------------------------------------------------------------\u001b[0m",
      "\u001b[1;31mValueError\u001b[0m                                Traceback (most recent call last)",
      "\u001b[1;32m<ipython-input-33-df3dcd82e135>\u001b[0m in \u001b[0;36m<module>\u001b[1;34m\u001b[0m\n\u001b[0;32m      1\u001b[0m \u001b[0mstring\u001b[0m \u001b[1;33m=\u001b[0m \u001b[1;34m'www.baidu.cctv.com'\u001b[0m\u001b[1;33m\u001b[0m\u001b[1;33m\u001b[0m\u001b[0m\n\u001b[0;32m      2\u001b[0m \u001b[0mprint\u001b[0m\u001b[1;33m(\u001b[0m\u001b[0mstring\u001b[0m\u001b[1;33m.\u001b[0m\u001b[0mfind\u001b[0m\u001b[1;33m(\u001b[0m\u001b[1;34m'.'\u001b[0m\u001b[1;33m)\u001b[0m\u001b[1;33m)\u001b[0m  \u001b[1;31m# 返回指定元素/字符串的索引值\u001b[0m\u001b[1;33m\u001b[0m\u001b[1;33m\u001b[0m\u001b[0m\n\u001b[1;32m----> 3\u001b[1;33m \u001b[0mprint\u001b[0m\u001b[1;33m(\u001b[0m\u001b[0mstring\u001b[0m\u001b[1;33m.\u001b[0m\u001b[0mindex\u001b[0m\u001b[1;33m(\u001b[0m\u001b[1;34m'f'\u001b[0m\u001b[1;33m)\u001b[0m\u001b[1;33m)\u001b[0m \u001b[1;31m# 同上，当指定元素不存在时会抛出异常\u001b[0m\u001b[1;33m\u001b[0m\u001b[1;33m\u001b[0m\u001b[0m\n\u001b[0m",
      "\u001b[1;31mValueError\u001b[0m: substring not found"
     ]
    }
   ],
   "source": [
    "string = 'www.baidu.cctv.com'\n",
    "print(string.find('.'))  # 返回指定元素/字符串的索引值\n",
    "print(string.index('f')) # 同上，当指定元素不存在时会抛出异常"
   ]
  },
  {
   "cell_type": "code",
   "execution_count": 19,
   "metadata": {},
   "outputs": [
    {
     "name": "stdout",
     "output_type": "stream",
     "text": [
      "True\n",
      "False\n",
      "False\n",
      "True\n",
      "False\n",
      "False\n",
      "False\n",
      "False\n",
      "False\n"
     ]
    }
   ],
   "source": [
    "string = '123qwe'\n",
    "print(string.isalnum()) #判断字符串是否全部由字母和数字组成\n",
    "print(string.isalpha())  # 是否只由字母或文字组成\n",
    "print(string.isdigit()) # 是否只由数字组成\n",
    "print(string.islower()) # 是否只有小写字母\n",
    "print(string.isnumeric()) # 是否只有数字，包括Nuicode、全角、半角、罗马、汉字\n",
    "print(string.isspace()) # 是都只由空白字符组合\n",
    "print(string.istitle()) # 字符串中单词首字母是否为大写，其他字母为小写\n",
    "print(string.isupper()) #所有字母是否都为大写\n",
    "print(string.isdecimal()) # 字符串是否只包含10进制数字"
   ]
  },
  {
   "cell_type": "code",
   "execution_count": 42,
   "metadata": {},
   "outputs": [
    {
     "name": "stdout",
     "output_type": "stream",
     "text": [
      ". www.baidu.com\n"
     ]
    }
   ],
   "source": [
    "str1 = '.'\n",
    "str2 = (\"www\", \"baidu\",\"com\")\n",
    "string = str1.join(str2)  # 通过指定字符连接序列中元素\n",
    "print(str1, string)"
   ]
  },
  {
   "cell_type": "code",
   "execution_count": 43,
   "metadata": {},
   "outputs": [
    {
     "name": "stdout",
     "output_type": "stream",
     "text": [
      "www.baidu.com-------\n"
     ]
    }
   ],
   "source": [
    "print(string.ljust(20, '-'))  # 字符串左对齐，不满足指定长度的则填充"
   ]
  },
  {
   "cell_type": "code",
   "execution_count": 46,
   "metadata": {},
   "outputs": [
    {
     "name": "stdout",
     "output_type": "stream",
     "text": [
      "www.BaiDu.com www.baidu.com\n"
     ]
    }
   ],
   "source": [
    "string = 'www.BaiDu.com'\n",
    "string.lower()\n",
    "print(string, string.lower())"
   ]
  },
  {
   "cell_type": "code",
   "execution_count": 2,
   "metadata": {},
   "outputs": [
    {
     "data": {
      "text/plain": [
       "'www.baidu.cn'"
      ]
     },
     "execution_count": 2,
     "metadata": {},
     "output_type": "execute_result"
    }
   ],
   "source": [
    "string = 'www.baidu.com'\n",
    "string1 = string.replace('com', 'cn', 1)  # (old, new, number)替换后生成新的字符串\n",
    "string1"
   ]
  },
  {
   "cell_type": "code",
   "execution_count": 4,
   "metadata": {},
   "outputs": [
    {
     "name": "stdout",
     "output_type": "stream",
     "text": [
      "2\n",
      "2\n"
     ]
    }
   ],
   "source": [
    "print(string.rfind('w'))  # 返回给定字符出现的最后位置\n",
    "print(string.rindex('w'))  # 同上，不存在时返回索引"
   ]
  },
  {
   "cell_type": "code",
   "execution_count": 5,
   "metadata": {},
   "outputs": [
    {
     "name": "stdout",
     "output_type": "stream",
     "text": [
      "-------------------------------------www.baidu.com\n"
     ]
    }
   ],
   "source": [
    "print(string.rjust(50, '-'))  # 字符串右对齐输出"
   ]
  },
  {
   "cell_type": "code",
   "execution_count": 12,
   "metadata": {},
   "outputs": [
    {
     "name": "stdout",
     "output_type": "stream",
     "text": [
      "  www.baidu.com\n",
      "www.baidu.com\n"
     ]
    }
   ],
   "source": [
    "string = '  www.baidu.com   '  \n",
    "print(string.rstrip())  # 删除字符串末尾的指定字符(默认空格)\n",
    "print(string.strip())   # 删除字符串开头的默认字符"
   ]
  },
  {
   "cell_type": "code",
   "execution_count": 7,
   "metadata": {},
   "outputs": [
    {
     "name": "stdout",
     "output_type": "stream",
     "text": [
      "['www', 'baidu', 'com   ']\n"
     ]
    }
   ],
   "source": [
    "list1 = string.split('.')   # 字符串切分\n",
    "print(list1)"
   ]
  },
  {
   "cell_type": "code",
   "execution_count": 10,
   "metadata": {},
   "outputs": [
    {
     "data": {
      "text/plain": [
       "['www', ' baidu']"
      ]
     },
     "execution_count": 10,
     "metadata": {},
     "output_type": "execute_result"
    }
   ],
   "source": [
    "a = 'www\\r baidu\\r\\n' \n",
    "list1 = a.splitlines()  # 以换行符切分 '\\r', '\\r\\n', \\n'\n",
    "list1"
   ]
  },
  {
   "cell_type": "code",
   "execution_count": 11,
   "metadata": {},
   "outputs": [
    {
     "name": "stdout",
     "output_type": "stream",
     "text": [
      "True\n"
     ]
    }
   ],
   "source": [
    "print(string.startswith('w'))  # 是否已指定字符开头"
   ]
  },
  {
   "cell_type": "code",
   "execution_count": 15,
   "metadata": {},
   "outputs": [
    {
     "name": "stdout",
     "output_type": "stream",
     "text": [
      "WWW.bAIdU.COM\n",
      "Www.Baidu.Com\n",
      "WWW.BAIDU.COM\n"
     ]
    }
   ],
   "source": [
    "string = 'www.BaiDu.com'\n",
    "print(string.swapcase())  # 字符串大小写字母转换\n",
    "print(string.title())  # 返回标题话的字符串，即每个单词的首字母转化为大写\n",
    "print(string.upper())  # 小写字母转换为大写"
   ]
  },
  {
   "cell_type": "code",
   "execution_count": 18,
   "metadata": {},
   "outputs": [
    {
     "name": "stdout",
     "output_type": "stream",
     "text": [
      "0000000www.BaiDu.com\n"
     ]
    }
   ],
   "source": [
    "print(string.zfill(20))  # 返回指定长度的字符串，默认右对齐，前面填充0"
   ]
  },
  {
   "cell_type": "code",
   "execution_count": 30,
   "metadata": {},
   "outputs": [
    {
     "name": "stdout",
     "output_type": "stream",
     "text": [
      "5 5 1\n",
      "1\n"
     ]
    }
   ],
   "source": [
    "# list\n",
    "list1 = [1, 2, 4, 3, 5]\n",
    "print(len(list1), max(list1), min(list1))\n",
    "list1.append(7)\n",
    "print(list1.count(1)) # 某个元素出现的次数"
   ]
  },
  {
   "cell_type": "code",
   "execution_count": 31,
   "metadata": {},
   "outputs": [
    {
     "data": {
      "text/plain": [
       "[1, 2, 4, 3, 5, 7, 6, 10, 9]"
      ]
     },
     "execution_count": 31,
     "metadata": {},
     "output_type": "execute_result"
    }
   ],
   "source": [
    "list1.extend([6,10,9])  # 再列表末尾一次性追加多个值，无返回值\n",
    "list1"
   ]
  },
  {
   "cell_type": "code",
   "execution_count": 34,
   "metadata": {},
   "outputs": [
    {
     "name": "stdout",
     "output_type": "stream",
     "text": [
      "6\n",
      "[1, 2, 4, 3, 5, 8, 8, 7, 6, 10, 9]\n"
     ]
    }
   ],
   "source": [
    "print(list1.index(7))  # 返回指定项第一个匹配的索引位置\n",
    "list1.insert(5, 8) # 指定位置插入指定元素\n",
    "print(list1)"
   ]
  },
  {
   "cell_type": "code",
   "execution_count": 35,
   "metadata": {},
   "outputs": [
    {
     "data": {
      "text/plain": [
       "9"
      ]
     },
     "execution_count": 35,
     "metadata": {},
     "output_type": "execute_result"
    }
   ],
   "source": [
    "list1.pop()  # 移除列表的最后一个元素"
   ]
  },
  {
   "cell_type": "code",
   "execution_count": 36,
   "metadata": {},
   "outputs": [],
   "source": [
    "list1.remove(8)   # 移除列表中某个项的第一匹配项,无返回值"
   ]
  },
  {
   "cell_type": "code",
   "execution_count": 38,
   "metadata": {},
   "outputs": [],
   "source": [
    "list1.reverse()  # 列表翻转，无返回值"
   ]
  },
  {
   "cell_type": "code",
   "execution_count": 40,
   "metadata": {},
   "outputs": [],
   "source": [
    "list1.sort()   # 对原列表进行排序，无返回值"
   ]
  },
  {
   "cell_type": "code",
   "execution_count": 42,
   "metadata": {},
   "outputs": [
    {
     "name": "stdout",
     "output_type": "stream",
     "text": [
      "[1, 2, 3, 4, 5, 6, 7, 8, 10]\n"
     ]
    },
    {
     "data": {
      "text/plain": [
       "[]"
      ]
     },
     "execution_count": 42,
     "metadata": {},
     "output_type": "execute_result"
    }
   ],
   "source": [
    "list2 = list1.copy()  # 列表拷贝\n",
    "print(list2)\n",
    "list2.clear()  # 清空列表\n",
    "list2"
   ]
  },
  {
   "cell_type": "code",
   "execution_count": 44,
   "metadata": {},
   "outputs": [
    {
     "name": "stdout",
     "output_type": "stream",
     "text": [
      "{} {'age': '18', 'sex': 'men', 'name': 'XXX'}\n"
     ]
    }
   ],
   "source": [
    "# dict\n",
    "dict1 = {'age':'18', 'sex':'men', 'name':'XXX'}\n",
    "dict2 = dict1  # 浅拷贝，为引用\n",
    "dict3 = dict1.copy()  # 深拷贝，独立地址\n",
    "dict1.clear()   # 删除字典内所有元素\n",
    "print(dict2, dict3)"
   ]
  },
  {
   "cell_type": "code",
   "execution_count": 46,
   "metadata": {},
   "outputs": [],
   "source": [
    "list1 = ['age', 'sex', 'name']\n",
    "list2 = ['18', '0', 'XXX']\n",
    "dict1 = dict.fromkeys(list1)  # 创建一个新字典，以seq作为字典的键"
   ]
  },
  {
   "cell_type": "code",
   "execution_count": 49,
   "metadata": {},
   "outputs": [
    {
     "name": "stdout",
     "output_type": "stream",
     "text": [
      "18\n",
      "True\n"
     ]
    }
   ],
   "source": [
    "dict1 = {'age':'18', 'sex':'men', 'name':'XXX'}\n",
    "print(dict1.get('age')) # 返回指定键的值\n",
    "print('age' in dict1) # 判断键是否存在于字典中"
   ]
  },
  {
   "cell_type": "code",
   "execution_count": 50,
   "metadata": {},
   "outputs": [
    {
     "name": "stdout",
     "output_type": "stream",
     "text": [
      "('age', '18')\n",
      "('sex', 'men')\n",
      "('name', 'XXX')\n"
     ]
    }
   ],
   "source": [
    "for i in dict1.items():  # items 返回可以遍历的(键、值)元组数组\n",
    "    print(i)"
   ]
  },
  {
   "cell_type": "code",
   "execution_count": 51,
   "metadata": {},
   "outputs": [
    {
     "name": "stdout",
     "output_type": "stream",
     "text": [
      "age\n",
      "sex\n",
      "name\n"
     ]
    }
   ],
   "source": [
    "for i in dict1.keys():  # keys 返回可迭代遍历的键对象，返回值为一个迭代器\n",
    "    print(i)"
   ]
  },
  {
   "cell_type": "code",
   "execution_count": 52,
   "metadata": {},
   "outputs": [
    {
     "data": {
      "text/plain": [
       "{'age': '18', 'sex': 'men', 'name': 'XXX', 'height': '165'}"
      ]
     },
     "execution_count": 52,
     "metadata": {},
     "output_type": "execute_result"
    }
   ],
   "source": [
    "dict2 = {'height':'165'}\n",
    "dict1.update(dict2)  # 将参数(字典/键值对)更新到字典中\n",
    "dict1"
   ]
  },
  {
   "cell_type": "code",
   "execution_count": 53,
   "metadata": {},
   "outputs": [
    {
     "name": "stdout",
     "output_type": "stream",
     "text": [
      "18\n",
      "men\n",
      "XXX\n",
      "165\n"
     ]
    }
   ],
   "source": [
    "for i in dict1.values():  # values, 返回可迭代遍历的值对象，返回值为一个迭代器\n",
    "    print(i)"
   ]
  },
  {
   "cell_type": "code",
   "execution_count": 54,
   "metadata": {},
   "outputs": [
    {
     "name": "stdout",
     "output_type": "stream",
     "text": [
      "{'age': '18', 'sex': 'men', 'name': 'XXX'}\n"
     ]
    }
   ],
   "source": [
    "dict1.pop('height')  # 删除指定键对应的值\n",
    "print(dict1)"
   ]
  },
  {
   "cell_type": "code",
   "execution_count": 55,
   "metadata": {},
   "outputs": [
    {
     "data": {
      "text/plain": [
       "('name', 'XXX')"
      ]
     },
     "execution_count": 55,
     "metadata": {},
     "output_type": "execute_result"
    }
   ],
   "source": [
    "dict1.popitem() # 返回并删除字典中的最后一对键和值（LIFO 后进先出原则）"
   ]
  },
  {
   "cell_type": "code",
   "execution_count": 1,
   "metadata": {},
   "outputs": [
    {
     "name": "stdout",
     "output_type": "stream",
     "text": [
      "{'b', 'e', 'a', 'c', 'd'}\n"
     ]
    }
   ],
   "source": [
    "# set 集合，无序\n",
    "set1 = {'a', 'b', 'c', 'd'}\n",
    "set1.add('e') # 添加\n",
    "print(set1)"
   ]
  },
  {
   "cell_type": "code",
   "execution_count": 3,
   "metadata": {},
   "outputs": [
    {
     "name": "stdout",
     "output_type": "stream",
     "text": [
      "{'b', 'e', 'a', 'c', 'd'} set() set() set()\n"
     ]
    }
   ],
   "source": [
    "set2 = set1.copy()  # 深拷贝\n",
    "set2.clear()  # 清除\n",
    "set3 = set1.copy()\n",
    "set4 = set3\n",
    "set3.clear()\n",
    "print(set1, set2, set3, set4)"
   ]
  },
  {
   "cell_type": "code",
   "execution_count": 4,
   "metadata": {},
   "outputs": [
    {
     "name": "stdout",
     "output_type": "stream",
     "text": [
      "{'f'}\n"
     ]
    }
   ],
   "source": [
    "set2 = {'a', 'b', 'c', 'f'}\n",
    "print(set2.difference(set1))  #返回两个集合的差集，包含在第一个集合中，但不包含在第二个集合中"
   ]
  },
  {
   "cell_type": "code",
   "execution_count": 5,
   "metadata": {},
   "outputs": [
    {
     "name": "stdout",
     "output_type": "stream",
     "text": [
      "{'b', 'e', 'a', 'c', 'd'} {'f'}\n"
     ]
    }
   ],
   "source": [
    "set2.difference_update(set1)  #移除两个集合共有部分，仅保留差集\n",
    "print(set1, set2)"
   ]
  },
  {
   "cell_type": "code",
   "execution_count": 6,
   "metadata": {},
   "outputs": [
    {
     "name": "stdout",
     "output_type": "stream",
     "text": [
      "{'b', 'e', 'a', 'c', 'd'}\n"
     ]
    }
   ],
   "source": [
    "set1.discard('f') #移除指定元素\n",
    "print(set1)"
   ]
  },
  {
   "cell_type": "code",
   "execution_count": 8,
   "metadata": {},
   "outputs": [
    {
     "name": "stdout",
     "output_type": "stream",
     "text": [
      "{'b', 'a', 'c'}\n",
      "{'b', 'a', 'c'}\n"
     ]
    }
   ],
   "source": [
    "set2 = {'a', 'b', 'c', 'f'}\n",
    "print(set2.intersection(set1))  # 返回两个集合的交集，结果是返回一个新集合\n",
    "set2.intersection_update(set1)  #返回两个集合的交集,结果是删除原集合的不重叠元素\n",
    "print(set2)"
   ]
  },
  {
   "cell_type": "code",
   "execution_count": 9,
   "metadata": {},
   "outputs": [
    {
     "name": "stdout",
     "output_type": "stream",
     "text": [
      "False\n"
     ]
    }
   ],
   "source": [
    "print(set2.isdisjoint(set1))  # 判断两个集合是否包含相同的元素，没有True 有Fasle\n",
    "print(set2.isdisjoint)"
   ]
  },
  {
   "cell_type": "code",
   "execution_count": 11,
   "metadata": {},
   "outputs": [
    {
     "name": "stdout",
     "output_type": "stream",
     "text": [
      "True\n",
      "False\n"
     ]
    }
   ],
   "source": [
    "print(set2.issubset(set1))  # 判断集合中所有元素是否都包含在指定集合内\n",
    "print(set2.issuperset(set1)) #判断指定集合的所有元素是否都包含在原始的集合中"
   ]
  },
  {
   "cell_type": "code",
   "execution_count": 12,
   "metadata": {},
   "outputs": [
    {
     "name": "stdout",
     "output_type": "stream",
     "text": [
      "{'a', 'c'}\n"
     ]
    }
   ],
   "source": [
    "set2.pop()  # 随机移除一个元素\n",
    "print(set2)"
   ]
  },
  {
   "cell_type": "code",
   "execution_count": 15,
   "metadata": {},
   "outputs": [
    {
     "name": "stdout",
     "output_type": "stream",
     "text": [
      "{'c', 'b', 'e', 'd'}\n",
      "None\n"
     ]
    }
   ],
   "source": [
    "set3 = set2.symmetric_difference(set1)  # 移除两个集合的重复元素，并返回新集合\n",
    "print(set3)\n",
    "set4 = set2.symmetric_difference_update(set1) #移除与指定集合相同的元素，并将指定集合中不同的插入至当前集合\n",
    "print(set4)"
   ]
  },
  {
   "cell_type": "code",
   "execution_count": 17,
   "metadata": {},
   "outputs": [
    {
     "data": {
      "text/plain": [
       "{'a', 'b', 'c', 'd', 'e'}"
      ]
     },
     "execution_count": 17,
     "metadata": {},
     "output_type": "execute_result"
    }
   ],
   "source": [
    "set.union(set1, set2)  # 返回两个集合的并集"
   ]
  },
  {
   "cell_type": "code",
   "execution_count": 19,
   "metadata": {},
   "outputs": [
    {
     "name": "stdout",
     "output_type": "stream",
     "text": [
      "{'b', 'e', 'a', 'f', 'c', 'd'}\n"
     ]
    }
   ],
   "source": [
    "set1.update({'f'})  #修改当前集合\n",
    "print(set1)"
   ]
  },
  {
   "cell_type": "code",
   "execution_count": null,
   "metadata": {},
   "outputs": [],
   "source": [
    "# file\n",
    "f = open('url', 'wb')\n",
    "f.flush() # 刷新缓冲区，将缓冲区数据立刻写入文件，同时清空缓存区\n",
    "f.fileno() # 返回整数型的文件描述符1\n",
    "f.isatty()  # 文件是否连接到一个终端设备\n",
    "f.read()  # 从文件中读取的字节数\n",
    "f.readline() #从文件中读取整行\n",
    "f.readlines() # 读取所有行\n",
    "f.seek(5) # 用于移动文件读取指针到指定位置\n",
    "f.tell() # 返回文件的当前位置\n",
    "f.truncate(10) # 从文件的首行首字节开始截断，截断文件为10个字节\n",
    "f.write() # 写入"
   ]
  },
  {
   "cell_type": "code",
   "execution_count": null,
   "metadata": {},
   "outputs": [],
   "source": [
    "# os 操作系统接口模块\n",
    "os.access(path, mode) # 使用当前的uid/gid尝试访问路径\n",
    "os.chdir()  # 改变当前工作目录到指定路径\n",
    "os.chmod(path, mode) # 更改文件或目录的权限\n",
    "os.chown(path, uid, gid) #更改文件所有者\n",
    "os.chroot() # 更改当前进程的根目录为指定目录\n",
    "os.close()  # 用于关闭指定的文件描述符 fd\n",
    "os.dup() # 复制文件描述符\n",
    "os.fchdir() # 改变当前工作目录\n",
    "os.fchmod() #改变一个文件的访问权限\n",
    "os.fchown() #修改文件所有权\n",
    "os.fstat() #返回文件描述符的状态\n",
    "os.fstatvfs() # 返回包含文件描述符fd的文件的文件系统的信息\n",
    "os.getwcd() # 返回当前工作目录\n",
    "os.getcwdu() # 返回工作目录的unicode对象\n",
    "os.listdir() # 返回指定文件夹包含的文件名列表\n",
    "os.mldir() # 以数字权限模式创建目录\n",
    "os.open()# 打开一个文件\n",
    "os.remove() #删除指定路径的文件\n",
    "os.path 模块\n",
    "os.path.abspath() # 返回绝对路径\n",
    "os.path.basename() # 返回文件名\n",
    "os.path.commonprefix() #返回所有path中最长的路径\n"
   ]
  },
  {
   "cell_type": "code",
   "execution_count": 3,
   "metadata": {},
   "outputs": [],
   "source": [
    "# python assert 用于判断一个表达式,表达式条件为Fasle时触发异常\n",
    "assert 2 > 3\n",
    "assert 2 < 3"
   ]
  },
  {
   "cell_type": "code",
   "execution_count": 4,
   "metadata": {},
   "outputs": [
    {
     "name": "stdout",
     "output_type": "stream",
     "text": [
      "name is coder\n",
      "Hi\n",
      "Son is coder\n"
     ]
    }
   ],
   "source": [
    "class Father(object):\n",
    "    def __init__(self, name):\n",
    "        self.name = name\n",
    "        print(\"name is %s\" %(self.name))\n",
    "    def get_name(self):\n",
    "        print(\"father is %s\" %(self.name))\n",
    "        \n",
    "class Son(Father):  # 继承Father\n",
    "    def __init__(self, name):\n",
    "        super(Son, self).__init__(name)  # 继承父类构造函数\n",
    "        print('Hi')\n",
    "        self.name = name\n",
    "    def get_name(self):\n",
    "         print(\"Son is %s\" %(self.name))\n",
    "            \n",
    "son = Son('coder')\n",
    "son.get_name()   "
   ]
  },
  {
   "cell_type": "code",
   "execution_count": 5,
   "metadata": {},
   "outputs": [
    {
     "name": "stderr",
     "output_type": "stream",
     "text": [
      "e:\\algorithm\\algo\\lib\\site-packages\\ipykernel_launcher.py:5: DeprecationWarning: time.clock has been deprecated in Python 3.3 and will be removed from Python 3.8: use time.perf_counter or time.process_time instead\n",
      "  \"\"\"\n"
     ]
    },
    {
     "name": "stdout",
     "output_type": "stream",
     "text": [
      "2.5037016999995103\n"
     ]
    },
    {
     "name": "stderr",
     "output_type": "stream",
     "text": [
      "e:\\algorithm\\algo\\lib\\site-packages\\ipykernel_launcher.py:7: DeprecationWarning: time.clock has been deprecated in Python 3.3 and will be removed from Python 3.8: use time.perf_counter or time.process_time instead\n",
      "  import sys\n"
     ]
    }
   ],
   "source": [
    "# time\n",
    "import time\n",
    "def test():\n",
    "    time.sleep(2.5)\n",
    "\n",
    "t_0 = time.clock()\n",
    "test()\n",
    "print(time.clock()-t_0)\n",
    "    "
   ]
  },
  {
   "cell_type": "code",
   "execution_count": 6,
   "metadata": {},
   "outputs": [
    {
     "name": "stdout",
     "output_type": "stream",
     "text": [
      "1519110218.0\n"
     ]
    }
   ],
   "source": [
    "t = (2018, 2, 20, 15, 3, 38, 1, 48, 0)\n",
    "sec = time.mktime(t)\n",
    "print(sec)"
   ]
  },
  {
   "cell_type": "code",
   "execution_count": 8,
   "metadata": {},
   "outputs": [
    {
     "ename": "AttributeError",
     "evalue": "module 'time' has no attribute 'tzset'",
     "output_type": "error",
     "traceback": [
      "\u001b[1;31m---------------------------------------------------------------------------\u001b[0m",
      "\u001b[1;31mAttributeError\u001b[0m                            Traceback (most recent call last)",
      "\u001b[1;32m<ipython-input-8-49263e2a4689>\u001b[0m in \u001b[0;36m<module>\u001b[1;34m\u001b[0m\n\u001b[0;32m      2\u001b[0m \u001b[1;31m# time tzset() 根据环境变量重新初始化时间相关设置\u001b[0m\u001b[1;33m\u001b[0m\u001b[1;33m\u001b[0m\u001b[1;33m\u001b[0m\u001b[0m\n\u001b[0;32m      3\u001b[0m \u001b[0mos\u001b[0m\u001b[1;33m.\u001b[0m\u001b[0menviron\u001b[0m\u001b[1;33m[\u001b[0m\u001b[1;34m'TZ'\u001b[0m\u001b[1;33m]\u001b[0m \u001b[1;33m=\u001b[0m \u001b[1;34m'EST+05EDT,M4.1.0,M10.5.0'\u001b[0m\u001b[1;33m\u001b[0m\u001b[1;33m\u001b[0m\u001b[0m\n\u001b[1;32m----> 4\u001b[1;33m \u001b[0mtime\u001b[0m\u001b[1;33m.\u001b[0m\u001b[0mtzset\u001b[0m\u001b[1;33m(\u001b[0m\u001b[1;33m)\u001b[0m\u001b[1;33m\u001b[0m\u001b[1;33m\u001b[0m\u001b[0m\n\u001b[0m\u001b[0;32m      5\u001b[0m \u001b[0mprint\u001b[0m \u001b[1;33m(\u001b[0m\u001b[0mtime\u001b[0m\u001b[1;33m.\u001b[0m\u001b[0mstrftime\u001b[0m\u001b[1;33m(\u001b[0m\u001b[1;34m'%X %x %Z'\u001b[0m\u001b[1;33m)\u001b[0m\u001b[1;33m)\u001b[0m\u001b[1;33m\u001b[0m\u001b[1;33m\u001b[0m\u001b[0m\n",
      "\u001b[1;31mAttributeError\u001b[0m: module 'time' has no attribute 'tzset'"
     ]
    }
   ],
   "source": [
    "import os\n",
    "# time tzset() 根据环境变量重新初始化时间相关设置\n",
    "os.environ['TZ'] = 'EST+05EDT,M4.1.0,M10.5.0'\n",
    "time.tzset()\n",
    "print (time.strftime('%X %x %Z'))"
   ]
  },
  {
   "cell_type": "code",
   "execution_count": null,
   "metadata": {},
   "outputs": [],
   "source": []
  }
 ],
 "metadata": {
  "kernelspec": {
   "display_name": "Python 3",
   "language": "python",
   "name": "python3"
  },
  "language_info": {
   "codemirror_mode": {
    "name": "ipython",
    "version": 3
   },
   "file_extension": ".py",
   "mimetype": "text/x-python",
   "name": "python",
   "nbconvert_exporter": "python",
   "pygments_lexer": "ipython3",
   "version": "3.7.4"
  }
 },
 "nbformat": 4,
 "nbformat_minor": 2
}
